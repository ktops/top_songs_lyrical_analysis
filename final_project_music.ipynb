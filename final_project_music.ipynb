{
 "cells": [
  {
   "cell_type": "markdown",
   "metadata": {},
   "source": [
    "# Pop and Rap Music Comparison Through Data"
   ]
  },
  {
   "cell_type": "markdown",
   "metadata": {},
   "source": [
    "### Kelsey Toporski"
   ]
  },
  {
   "cell_type": "code",
   "execution_count": 83,
   "metadata": {},
   "outputs": [],
   "source": [
    "import numpy as np\n",
    "import pandas as pd\n",
    "import seaborn as sns\n",
    "import matplotlib.pyplot as plt\n",
    "import requests\n",
    "import re \n",
    "from bs4 import BeautifulSoup\n",
    "import spacy\n",
    "nlp = spacy.load('en')\n",
    "from spacy.lang.en.stop_words import STOP_WORDS\n",
    "np.array(STOP_WORDS)\n",
    "from collections import Counter"
   ]
  },
  {
   "cell_type": "markdown",
   "metadata": {},
   "source": [
    "Loading the in the Billboard lyrics for the past 50 years of top songs:"
   ]
  },
  {
   "cell_type": "code",
   "execution_count": 84,
   "metadata": {},
   "outputs": [
    {
     "data": {
      "text/html": [
       "<div>\n",
       "<style scoped>\n",
       "    .dataframe tbody tr th:only-of-type {\n",
       "        vertical-align: middle;\n",
       "    }\n",
       "\n",
       "    .dataframe tbody tr th {\n",
       "        vertical-align: top;\n",
       "    }\n",
       "\n",
       "    .dataframe thead th {\n",
       "        text-align: right;\n",
       "    }\n",
       "</style>\n",
       "<table border=\"1\" class=\"dataframe\">\n",
       "  <thead>\n",
       "    <tr style=\"text-align: right;\">\n",
       "      <th></th>\n",
       "      <th>Rank</th>\n",
       "      <th>Song</th>\n",
       "      <th>Artist</th>\n",
       "      <th>Year</th>\n",
       "      <th>Lyrics</th>\n",
       "      <th>Source</th>\n",
       "    </tr>\n",
       "  </thead>\n",
       "  <tbody>\n",
       "    <tr>\n",
       "      <th>0</th>\n",
       "      <td>1</td>\n",
       "      <td>wooly bully</td>\n",
       "      <td>sam the sham and the pharaohs</td>\n",
       "      <td>1965</td>\n",
       "      <td>sam the sham miscellaneous wooly bully wooly b...</td>\n",
       "      <td>3.0</td>\n",
       "    </tr>\n",
       "    <tr>\n",
       "      <th>1</th>\n",
       "      <td>2</td>\n",
       "      <td>i cant help myself sugar pie honey bunch</td>\n",
       "      <td>four tops</td>\n",
       "      <td>1965</td>\n",
       "      <td>sugar pie honey bunch you know that i love yo...</td>\n",
       "      <td>1.0</td>\n",
       "    </tr>\n",
       "    <tr>\n",
       "      <th>2</th>\n",
       "      <td>3</td>\n",
       "      <td>i cant get no satisfaction</td>\n",
       "      <td>the rolling stones</td>\n",
       "      <td>1965</td>\n",
       "      <td></td>\n",
       "      <td>1.0</td>\n",
       "    </tr>\n",
       "    <tr>\n",
       "      <th>3</th>\n",
       "      <td>4</td>\n",
       "      <td>you were on my mind</td>\n",
       "      <td>we five</td>\n",
       "      <td>1965</td>\n",
       "      <td>when i woke up this morning you were on my mi...</td>\n",
       "      <td>1.0</td>\n",
       "    </tr>\n",
       "    <tr>\n",
       "      <th>4</th>\n",
       "      <td>5</td>\n",
       "      <td>youve lost that lovin feelin</td>\n",
       "      <td>the righteous brothers</td>\n",
       "      <td>1965</td>\n",
       "      <td>you never close your eyes anymore when i kiss...</td>\n",
       "      <td>1.0</td>\n",
       "    </tr>\n",
       "  </tbody>\n",
       "</table>\n",
       "</div>"
      ],
      "text/plain": [
       "   Rank                                      Song  \\\n",
       "0     1                               wooly bully   \n",
       "1     2  i cant help myself sugar pie honey bunch   \n",
       "2     3                i cant get no satisfaction   \n",
       "3     4                       you were on my mind   \n",
       "4     5              youve lost that lovin feelin   \n",
       "\n",
       "                          Artist  Year  \\\n",
       "0  sam the sham and the pharaohs  1965   \n",
       "1                      four tops  1965   \n",
       "2             the rolling stones  1965   \n",
       "3                        we five  1965   \n",
       "4         the righteous brothers  1965   \n",
       "\n",
       "                                              Lyrics  Source  \n",
       "0  sam the sham miscellaneous wooly bully wooly b...     3.0  \n",
       "1   sugar pie honey bunch you know that i love yo...     1.0  \n",
       "2                                                        1.0  \n",
       "3   when i woke up this morning you were on my mi...     1.0  \n",
       "4   you never close your eyes anymore when i kiss...     1.0  "
      ]
     },
     "execution_count": 84,
     "metadata": {},
     "output_type": "execute_result"
    }
   ],
   "source": [
    "# had to use special encoding to get my data to upload all the chars correctly - UTF-8 didn't work\n",
    "billboard = pd.read_csv('billboard_lyrics_1964_2015.csv', encoding = 'ISO-8859-1')\n",
    "billboard.head()"
   ]
  },
  {
   "cell_type": "code",
   "execution_count": 85,
   "metadata": {},
   "outputs": [
    {
     "data": {
      "text/html": [
       "<div>\n",
       "<style scoped>\n",
       "    .dataframe tbody tr th:only-of-type {\n",
       "        vertical-align: middle;\n",
       "    }\n",
       "\n",
       "    .dataframe tbody tr th {\n",
       "        vertical-align: top;\n",
       "    }\n",
       "\n",
       "    .dataframe thead th {\n",
       "        text-align: right;\n",
       "    }\n",
       "</style>\n",
       "<table border=\"1\" class=\"dataframe\">\n",
       "  <thead>\n",
       "    <tr style=\"text-align: right;\">\n",
       "      <th></th>\n",
       "      <th>Rank</th>\n",
       "      <th>Song</th>\n",
       "      <th>Artist</th>\n",
       "      <th>Year</th>\n",
       "      <th>Lyrics</th>\n",
       "      <th>Source</th>\n",
       "    </tr>\n",
       "  </thead>\n",
       "  <tbody>\n",
       "    <tr>\n",
       "      <th>2972</th>\n",
       "      <td>73</td>\n",
       "      <td>always</td>\n",
       "      <td>erasure</td>\n",
       "      <td>1994</td>\n",
       "      <td>open your eyes i see your eyes are open wear ...</td>\n",
       "      <td>1.0</td>\n",
       "    </tr>\n",
       "    <tr>\n",
       "      <th>2348</th>\n",
       "      <td>49</td>\n",
       "      <td>the locomotion</td>\n",
       "      <td>kylie minogue</td>\n",
       "      <td>1988</td>\n",
       "      <td>everybodys doin a brand new dance now come on ...</td>\n",
       "      <td>3.0</td>\n",
       "    </tr>\n",
       "    <tr>\n",
       "      <th>4787</th>\n",
       "      <td>88</td>\n",
       "      <td>take a little ride</td>\n",
       "      <td>jason aldean</td>\n",
       "      <td>2012</td>\n",
       "      <td>been goin round and round all day bailin some...</td>\n",
       "      <td>1.0</td>\n",
       "    </tr>\n",
       "    <tr>\n",
       "      <th>2575</th>\n",
       "      <td>76</td>\n",
       "      <td>love takes time</td>\n",
       "      <td>mariah carey</td>\n",
       "      <td>1990</td>\n",
       "      <td>i had it all but i let it slip away couldnt s...</td>\n",
       "      <td>1.0</td>\n",
       "    </tr>\n",
       "    <tr>\n",
       "      <th>901</th>\n",
       "      <td>2</td>\n",
       "      <td>seasons in the sun</td>\n",
       "      <td>terry jacks</td>\n",
       "      <td>1974</td>\n",
       "      <td>goodbye to you my trusted friend weve known e...</td>\n",
       "      <td>1.0</td>\n",
       "    </tr>\n",
       "  </tbody>\n",
       "</table>\n",
       "</div>"
      ],
      "text/plain": [
       "      Rank                Song         Artist  Year  \\\n",
       "2972    73              always        erasure  1994   \n",
       "2348    49      the locomotion  kylie minogue  1988   \n",
       "4787    88  take a little ride   jason aldean  2012   \n",
       "2575    76     love takes time   mariah carey  1990   \n",
       "901      2  seasons in the sun    terry jacks  1974   \n",
       "\n",
       "                                                 Lyrics  Source  \n",
       "2972   open your eyes i see your eyes are open wear ...     1.0  \n",
       "2348  everybodys doin a brand new dance now come on ...     3.0  \n",
       "4787   been goin round and round all day bailin some...     1.0  \n",
       "2575   i had it all but i let it slip away couldnt s...     1.0  \n",
       "901    goodbye to you my trusted friend weve known e...     1.0  "
      ]
     },
     "execution_count": 85,
     "metadata": {},
     "output_type": "execute_result"
    }
   ],
   "source": [
    "# taking a random sample of 100 pop songs to use for direct comparison to rap songs\n",
    "pop_100 = billboard.sample(n = 100)\n",
    "pop_100.head()"
   ]
  },
  {
   "cell_type": "markdown",
   "metadata": {},
   "source": [
    "Scraping lyrics from Genius's website"
   ]
  },
  {
   "cell_type": "markdown",
   "metadata": {},
   "source": [
    "to get the to the lyrics page of a song on genius:\n",
    "https://genius.com/Artist-name-song-name-lyrics\n",
    "do not include apostrophe's, only capitalize the first letter of the artist's name"
   ]
  },
  {
   "cell_type": "code",
   "execution_count": 86,
   "metadata": {},
   "outputs": [],
   "source": [
    "# writing a function that will take in the song name and artist name and clean both (no symbols or punctuation, lowercase)\n",
    "# so that i can create a URL that will lead me to the lyrics of the song on genius\n",
    "def get_url(song_name, artist_name):\n",
    "    song_name = song_name.replace(\"'\", \"\")\n",
    "    song_name = song_name.replace(\".\", \"\")\n",
    "    song_name = re.sub(r'([^\\w\\s])|_+', ' ', song_name)\n",
    "    if(song_name[-1] == ' '):\n",
    "        song_name = song_name[:-1]\n",
    "    song_name = re.sub(' +', ' ', song_name)\n",
    "    song_name = song_name.lower()\n",
    "    song_name = song_name.replace(\" \", \"-\")\n",
    "\n",
    "    artist_name = artist_name.replace(\"'\", \"\")\n",
    "    artist_name = artist_name.replace(\".\", \"\")\n",
    "    artist_name = re.sub(r'([^\\w\\s])|_+', ' ', artist_name)\n",
    "    if(artist_name[-1] == ' '):\n",
    "        artist_name = artist_name[:-1]\n",
    "    artist_name = re.sub(' +', ' ', artist_name)\n",
    "    artist_name = artist_name.lower()\n",
    "    artist_name = artist_name.replace(\" \", \"-\")\n",
    "    artist_name = artist_name[0].upper() + artist_name[1:]\n",
    "\n",
    "    final_url = 'https://genius.com/' + artist_name + '-' + song_name + '-lyrics'\n",
    "    \n",
    "    return final_url"
   ]
  },
  {
   "cell_type": "markdown",
   "metadata": {},
   "source": [
    "getting lyrics from online fro the url we made"
   ]
  },
  {
   "cell_type": "code",
   "execution_count": 87,
   "metadata": {},
   "outputs": [],
   "source": [
    "# using beautiful soup to scrape the lyrics off of the genius page\n",
    "def get_lyrics(song_url):\n",
    "    url = song_url\n",
    "    page = requests.get(url)\n",
    "    html = BeautifulSoup(page.text, \"html.parser\")\n",
    "\n",
    "    lyrics = html.find(\"div\", class_=\"lyrics\").get_text()\n",
    "    return lyrics"
   ]
  },
  {
   "cell_type": "markdown",
   "metadata": {},
   "source": [
    "cleaning the lyrics"
   ]
  },
  {
   "cell_type": "code",
   "execution_count": 88,
   "metadata": {},
   "outputs": [],
   "source": [
    "# cleaning the lyrics (lowercase, no punctuation or symbols of any kind, no newlines, etc.)\n",
    "def clean_lyrics(lyrics):\n",
    "    lyrics = re.sub(r'\\[.+?\\]', '', lyrics)\n",
    "    lyrics_lower = lyrics.lower()\n",
    "    lyrics_lower = re.sub('\\n', ' ', lyrics_lower)\n",
    "    lyrics_lower_no_punct = re.sub(r'[^\\w\\s]+', '', lyrics_lower)\n",
    "    lyrics_finished = re.sub(' +', ' ', lyrics_lower_no_punct)\n",
    "    if(lyrics_finished[-1] == ' '):\n",
    "        lyrics_finished = lyrics_finished[:-1]\n",
    "    if(lyrics_finished[0] == ' '):\n",
    "        lyrics_finished = lyrics_finished[1:]\n",
    "    return lyrics_finished"
   ]
  },
  {
   "cell_type": "markdown",
   "metadata": {},
   "source": [
    "testing the functions"
   ]
  },
  {
   "cell_type": "code",
   "execution_count": 89,
   "metadata": {},
   "outputs": [
    {
     "data": {
      "text/plain": [
       "'i was raised up believing i was somehow unique like a snowflake distinct among snowflakes unique in each way you can see and now after some thinking id say id rather be a functioning cog in some great machinery serving something beyond me but i dont i dont know what that will be ill get back to you someday soon you will see whats my name whats my station oh just tell me what i should do i dont need to be kind to the armies of night that would do such injustice to you or bow down and be grateful and say sure take all that you see to the men who move only in dimly lit halls and determine my future for me and i dont i dont know who to believe ill get back to you someday soon you will see if i know only one thing its that everything that i see of the world outside is so inconceivable often i barely can speak yeah im tonguetied and dizzy and i cant keep it to myself what good is it to sing helplessness blues why should i wait for anyone else and i know i know you will keep me on the shelf ill come back to you someday soon myself if i had an orchard id work till im raw if i had an orchard id work till im sore and you would wait tables and soon run the store gold hair in the sunlight my light in the dawn if i had an orchard id work till im sore if i had an orchard id work till im sore someday ill be like the man on the screen'"
      ]
     },
     "execution_count": 89,
     "metadata": {},
     "output_type": "execute_result"
    }
   ],
   "source": [
    "# testing the output on a song i know the lyrics to\n",
    "fleet = get_url('Helplessness Blues', 'Fleet Foxes')\n",
    "foxes = get_lyrics(fleet)\n",
    "clean_lyrics(foxes)"
   ]
  },
  {
   "cell_type": "markdown",
   "metadata": {},
   "source": [
    "how many unique words are in crazy in love by beyonce"
   ]
  },
  {
   "cell_type": "code",
   "execution_count": 90,
   "metadata": {},
   "outputs": [
    {
     "data": {
      "text/plain": [
       "203"
      ]
     },
     "execution_count": 90,
     "metadata": {},
     "output_type": "execute_result"
    }
   ],
   "source": [
    "yee = all_of_the_above('Crazy In Love', 'Beyonce')\n",
    "unique_words = set(yee.split(' '))\n",
    "len(unique_words)"
   ]
  },
  {
   "cell_type": "code",
   "execution_count": 91,
   "metadata": {},
   "outputs": [],
   "source": [
    "# combining all those functions into one big function\n",
    "def all_of_the_above(song, artist):\n",
    "    url = get_url(song, artist)\n",
    "    lyrics = get_lyrics(url)\n",
    "    return clean_lyrics(lyrics)"
   ]
  },
  {
   "cell_type": "markdown",
   "metadata": {},
   "source": [
    "put it all in a dataframe:"
   ]
  },
  {
   "cell_type": "code",
   "execution_count": 92,
   "metadata": {},
   "outputs": [],
   "source": [
    "# putting all the names form the rap 100 list into a csv, loading that in\n",
    "# had to use the quotechar thing so i could keep my apostrophes in place\n",
    "rap100 = pd.read_csv('hot_100_rap.csv', quotechar = \"\\\"\")"
   ]
  },
  {
   "cell_type": "code",
   "execution_count": 93,
   "metadata": {},
   "outputs": [],
   "source": [
    "# adding all the lyrics to the songs into the dataframe\n",
    "rap100['lyrics'] = rap100[[\"song_name\",\"artist_name\"]].apply(lambda x: all_of_the_above(*x), axis=1)"
   ]
  },
  {
   "cell_type": "code",
   "execution_count": 94,
   "metadata": {},
   "outputs": [
    {
     "data": {
      "text/html": [
       "<div>\n",
       "<style scoped>\n",
       "    .dataframe tbody tr th:only-of-type {\n",
       "        vertical-align: middle;\n",
       "    }\n",
       "\n",
       "    .dataframe tbody tr th {\n",
       "        vertical-align: top;\n",
       "    }\n",
       "\n",
       "    .dataframe thead th {\n",
       "        text-align: right;\n",
       "    }\n",
       "</style>\n",
       "<table border=\"1\" class=\"dataframe\">\n",
       "  <thead>\n",
       "    <tr style=\"text-align: right;\">\n",
       "      <th></th>\n",
       "      <th>song_name</th>\n",
       "      <th>artist_name</th>\n",
       "      <th>lyrics</th>\n",
       "    </tr>\n",
       "  </thead>\n",
       "  <tbody>\n",
       "    <tr>\n",
       "      <th>0</th>\n",
       "      <td>All Of The Lights</td>\n",
       "      <td>Kanye West</td>\n",
       "      <td>all of the lights lights all of the lights tur...</td>\n",
       "    </tr>\n",
       "    <tr>\n",
       "      <th>1</th>\n",
       "      <td>No Lie</td>\n",
       "      <td>2 Chainz</td>\n",
       "      <td>eardrummers mike will madeit yah tru 2 chainz ...</td>\n",
       "    </tr>\n",
       "    <tr>\n",
       "      <th>2</th>\n",
       "      <td>Aston Martin Music</td>\n",
       "      <td>Rick Ross</td>\n",
       "      <td>oh lets pull the 2seater out baby its where ev...</td>\n",
       "    </tr>\n",
       "    <tr>\n",
       "      <th>3</th>\n",
       "      <td>Loungin (Who Do Ya Luv)</td>\n",
       "      <td>LL Cool J</td>\n",
       "      <td>ummgo head daddy we doing it with llaughsgo he...</td>\n",
       "    </tr>\n",
       "    <tr>\n",
       "      <th>4</th>\n",
       "      <td>O.P.P.</td>\n",
       "      <td>Naughty By Nature</td>\n",
       "      <td>arm me with harmony dave drop a load on em opp...</td>\n",
       "    </tr>\n",
       "    <tr>\n",
       "      <th>5</th>\n",
       "      <td>Heartless</td>\n",
       "      <td>Kanye West</td>\n",
       "      <td>in the night i hear em talk the coldest story ...</td>\n",
       "    </tr>\n",
       "    <tr>\n",
       "      <th>6</th>\n",
       "      <td>Player's  Ball</td>\n",
       "      <td>OutKast</td>\n",
       "      <td>man the scene was so thick lowriders 77 sevill...</td>\n",
       "    </tr>\n",
       "    <tr>\n",
       "      <th>7</th>\n",
       "      <td>Holla Holla</td>\n",
       "      <td>Ja Rule</td>\n",
       "      <td>holla holla all my niggas thats ready to get d...</td>\n",
       "    </tr>\n",
       "    <tr>\n",
       "      <th>8</th>\n",
       "      <td>Left, Right, Left</td>\n",
       "      <td>Drama</td>\n",
       "      <td>chorus drama left left left left left right le...</td>\n",
       "    </tr>\n",
       "    <tr>\n",
       "      <th>9</th>\n",
       "      <td>Call me D-Nice</td>\n",
       "      <td>D-Nice</td>\n",
       "      <td>my name is d nice my name is d nice my name my...</td>\n",
       "    </tr>\n",
       "    <tr>\n",
       "      <th>10</th>\n",
       "      <td>C'Mon N' Ride It (The Train)</td>\n",
       "      <td>Quad City DJ's</td>\n",
       "      <td>woo woo x 4 ride that choo choo choo choo ride...</td>\n",
       "    </tr>\n",
       "    <tr>\n",
       "      <th>11</th>\n",
       "      <td>Looking At The Front Door</td>\n",
       "      <td>Main Source</td>\n",
       "      <td>we fight every night now thats not kosher i re...</td>\n",
       "    </tr>\n",
       "    <tr>\n",
       "      <th>12</th>\n",
       "      <td>Money Maker</td>\n",
       "      <td>Ludacris</td>\n",
       "      <td>shake your money maker like somebodys bout to ...</td>\n",
       "    </tr>\n",
       "    <tr>\n",
       "      <th>13</th>\n",
       "      <td>The Way You Move</td>\n",
       "      <td>OutKast</td>\n",
       "      <td>ready for action nip it in the bud we never re...</td>\n",
       "    </tr>\n",
       "    <tr>\n",
       "      <th>14</th>\n",
       "      <td>Jigga My Nigga</td>\n",
       "      <td>Ruff Ryders</td>\n",
       "      <td>rocafella ruff ryders swizz beats its almost o...</td>\n",
       "    </tr>\n",
       "    <tr>\n",
       "      <th>15</th>\n",
       "      <td>Slow Motion</td>\n",
       "      <td>Juvenile</td>\n",
       "      <td>slow motion for me slow motion for me move in ...</td>\n",
       "    </tr>\n",
       "    <tr>\n",
       "      <th>16</th>\n",
       "      <td>Headlines</td>\n",
       "      <td>Drake</td>\n",
       "      <td>i might be too strung out on compliments overd...</td>\n",
       "    </tr>\n",
       "    <tr>\n",
       "      <th>17</th>\n",
       "      <td>Got Money</td>\n",
       "      <td>Lil Wayne</td>\n",
       "      <td>yeah yeah i need a winndixie grocery bag full ...</td>\n",
       "    </tr>\n",
       "    <tr>\n",
       "      <th>18</th>\n",
       "      <td>My Baby</td>\n",
       "      <td>Lil' Romeo</td>\n",
       "      <td>hotline can i request a song yeah my baby by l...</td>\n",
       "    </tr>\n",
       "    <tr>\n",
       "      <th>19</th>\n",
       "      <td>Lovers and Friends</td>\n",
       "      <td>Lil Jon</td>\n",
       "      <td>usher lil jon ludacris yeah man once again its...</td>\n",
       "    </tr>\n",
       "  </tbody>\n",
       "</table>\n",
       "</div>"
      ],
      "text/plain": [
       "                       song_name        artist_name  \\\n",
       "0              All Of The Lights         Kanye West   \n",
       "1                         No Lie           2 Chainz   \n",
       "2             Aston Martin Music          Rick Ross   \n",
       "3        Loungin (Who Do Ya Luv)          LL Cool J   \n",
       "4                         O.P.P.  Naughty By Nature   \n",
       "5                      Heartless         Kanye West   \n",
       "6                 Player's  Ball            OutKast   \n",
       "7                    Holla Holla            Ja Rule   \n",
       "8              Left, Right, Left              Drama   \n",
       "9                 Call me D-Nice             D-Nice   \n",
       "10  C'Mon N' Ride It (The Train)     Quad City DJ's   \n",
       "11     Looking At The Front Door        Main Source   \n",
       "12                   Money Maker           Ludacris   \n",
       "13              The Way You Move            OutKast   \n",
       "14                Jigga My Nigga        Ruff Ryders   \n",
       "15                   Slow Motion           Juvenile   \n",
       "16                     Headlines              Drake   \n",
       "17                     Got Money          Lil Wayne   \n",
       "18                       My Baby         Lil' Romeo   \n",
       "19            Lovers and Friends            Lil Jon   \n",
       "\n",
       "                                               lyrics  \n",
       "0   all of the lights lights all of the lights tur...  \n",
       "1   eardrummers mike will madeit yah tru 2 chainz ...  \n",
       "2   oh lets pull the 2seater out baby its where ev...  \n",
       "3   ummgo head daddy we doing it with llaughsgo he...  \n",
       "4   arm me with harmony dave drop a load on em opp...  \n",
       "5   in the night i hear em talk the coldest story ...  \n",
       "6   man the scene was so thick lowriders 77 sevill...  \n",
       "7   holla holla all my niggas thats ready to get d...  \n",
       "8   chorus drama left left left left left right le...  \n",
       "9   my name is d nice my name is d nice my name my...  \n",
       "10  woo woo x 4 ride that choo choo choo choo ride...  \n",
       "11  we fight every night now thats not kosher i re...  \n",
       "12  shake your money maker like somebodys bout to ...  \n",
       "13  ready for action nip it in the bud we never re...  \n",
       "14  rocafella ruff ryders swizz beats its almost o...  \n",
       "15  slow motion for me slow motion for me move in ...  \n",
       "16  i might be too strung out on compliments overd...  \n",
       "17  yeah yeah i need a winndixie grocery bag full ...  \n",
       "18  hotline can i request a song yeah my baby by l...  \n",
       "19  usher lil jon ludacris yeah man once again its...  "
      ]
     },
     "execution_count": 94,
     "metadata": {},
     "output_type": "execute_result"
    }
   ],
   "source": [
    "rap100.head(20)"
   ]
  },
  {
   "cell_type": "code",
   "execution_count": 95,
   "metadata": {},
   "outputs": [],
   "source": [
    "# testing what i wanted to do on the whole set to one song first\n",
    "fleet_blob = all_of_the_above('Helplessness Blues', 'Fleet Foxes')\n",
    "fleet_blob = fleet_blob.split()\n",
    "\n",
    "fleet_nostop = list()\n",
    "for word in fleet_blob:\n",
    "    if word not in STOP_WORDS:\n",
    "        fleet_nostop.append(word)"
   ]
  },
  {
   "cell_type": "code",
   "execution_count": 96,
   "metadata": {},
   "outputs": [
    {
     "data": {
      "text/plain": [
       "[('id', 6),\n",
       " ('dont', 5),\n",
       " ('know', 5),\n",
       " ('im', 5),\n",
       " ('ill', 4),\n",
       " ('someday', 4),\n",
       " ('soon', 4),\n",
       " ('orchard', 4),\n",
       " ('work', 4),\n",
       " ('till', 4)]"
      ]
     },
     "execution_count": 96,
     "metadata": {},
     "output_type": "execute_result"
    }
   ],
   "source": [
    "Counter(fleet_nostop).most_common(10)"
   ]
  },
  {
   "cell_type": "code",
   "execution_count": 97,
   "metadata": {},
   "outputs": [
    {
     "data": {
      "image/png": "[encoded data removed]",
      "text/plain": [
       "<Figure size 3240x720 with 1 Axes>"
      ]
     },
     "metadata": {
      "needs_background": "light"
     },
     "output_type": "display_data"
    }
   ],
   "source": [
    "plt.figure(figsize=(45,10))\n",
    "sns.countplot(fleet_nostop, order=pd.Series(fleet_nostop).value_counts().index)\n",
    "# sns.countplot(fleet_nostop, order=[counted[0] for counted in Counter(fleet_nostop).most_common()])\n",
    "plt.xticks(rotation=90)\n",
    "plt.show()"
   ]
  },
  {
   "cell_type": "markdown",
   "metadata": {},
   "source": [
    "Creating pop (full and sample) and rap word blobs to create graphics from."
   ]
  },
  {
   "cell_type": "code",
   "execution_count": 98,
   "metadata": {},
   "outputs": [
    {
     "data": {
      "image/png": "[encoded data removed]",
      "text/plain": [
       "<Figure size 432x288 with 1 Axes>"
      ]
     },
     "metadata": {
      "needs_background": "light"
     },
     "output_type": "display_data"
    }
   ],
   "source": [
    "# adding all the words of the rap songs together\n",
    "rap_blob = rap100['lyrics'].str.cat()\n",
    "rap_blob = rap_blob.split()\n",
    "\n",
    "# removing stopwords\n",
    "rap_nostop = list()\n",
    "for word in rap_blob:\n",
    "    if word not in STOP_WORDS:\n",
    "        rap_nostop.append(word)\n",
    "        \n",
    "# plotting the most common words across top rap songs\n",
    "d = Counter(rap_nostop).most_common(20)\n",
    "df = pd.DataFrame(d)\n",
    "ax = df.plot.bar(x=0, y=1)\n",
    "plt.title('Most Popular Words in Top Rap Songs')\n",
    "plt.xlabel('Words')\n",
    "plt.ylabel('Number of Occurrences Across Songs')\n",
    "plt.show()"
   ]
  },
  {
   "cell_type": "code",
   "execution_count": 99,
   "metadata": {},
   "outputs": [
    {
     "data": {
      "image/png": "[encoded data removed]",
      "text/plain": [
       "<Figure size 432x288 with 1 Axes>"
      ]
     },
     "metadata": {
      "needs_background": "light"
     },
     "output_type": "display_data"
    }
   ],
   "source": [
    "# same as above, repeated with pop\n",
    "pop_blob = billboard['Lyrics'].str.cat()\n",
    "pop_blob = pop_blob.split()\n",
    "\n",
    "pop_nostop = list()\n",
    "for word in pop_blob:\n",
    "    if word not in STOP_WORDS:\n",
    "        pop_nostop.append(word)\n",
    "\n",
    "d1 = Counter(pop_nostop).most_common(20)\n",
    "df1 = pd.DataFrame(d1)\n",
    "ax1 = df1.plot.bar(x=0, y=1)\n",
    "plt.title('Most Popular Words in Top Pop Songs')\n",
    "plt.xlabel('Words')\n",
    "plt.ylabel('Number of Occurrences Across Songs')\n",
    "plt.show()"
   ]
  },
  {
   "cell_type": "code",
   "execution_count": 100,
   "metadata": {},
   "outputs": [
    {
     "data": {
      "image/png": "[encoded data removed]",
      "text/plain": [
       "<Figure size 432x288 with 1 Axes>"
      ]
     },
     "metadata": {
      "needs_background": "light"
     },
     "output_type": "display_data"
    }
   ],
   "source": [
    "# same as above, repeated with pop sample\n",
    "pop_blob_100 = pop_100['Lyrics'].str.cat()\n",
    "pop_blob_100 = pop_blob_100.split()\n",
    "\n",
    "pop_nostop_100 = list()\n",
    "for word in pop_blob_100:\n",
    "    if word not in STOP_WORDS:\n",
    "        pop_nostop_100.append(word)\n",
    "\n",
    "d2 = Counter(pop_nostop_100).most_common(20)\n",
    "df2 = pd.DataFrame(d2)\n",
    "ax2 = df2.plot.bar(x=0, y=1)\n",
    "plt.title('Most Popular Words in Top Pop Songs, SAMPLE 100')\n",
    "plt.xlabel('Words')\n",
    "plt.ylabel('Number of Occurrences Across Songs')\n",
    "plt.show()"
   ]
  },
  {
   "cell_type": "code",
   "execution_count": 101,
   "metadata": {},
   "outputs": [
    {
     "data": {
      "image/png": "[encoded data removed]",
      "text/plain": [
       "<Figure size 432x288 with 1 Axes>"
      ]
     },
     "metadata": {},
     "output_type": "display_data"
    }
   ],
   "source": [
    "# how many of the top songs had the top word in it - pop\n",
    "count = 0\n",
    "\n",
    "lyrics_list = list(billboard['Lyrics'])\n",
    "\n",
    "total = len(lyrics_list)\n",
    "\n",
    "for song in lyrics_list:\n",
    "    if str(song).find(\"love\") != -1:\n",
    "        count += 1\n",
    "    \n",
    "slices_hours = [count, total - count]\n",
    "activities = ['Love', 'No Love']\n",
    "colors = ['g', 'r']\n",
    "plt.title('Percentage of Top Pop Songs that Do and Don\\'t Contain the Most Common Word: Love')\n",
    "plt.pie(slices_hours, labels=activities, colors=colors, startangle=90, autopct='%.1f%%')\n",
    "plt.show()"
   ]
  },
  {
   "cell_type": "code",
   "execution_count": 102,
   "metadata": {},
   "outputs": [],
   "source": [
    "# what's the overlap between the two? - what are the most common words that appear in both?\n",
    "d = Counter(rap_nostop).most_common(20)\n",
    "rap_list = list(d)\n",
    "\n",
    "d1 = Counter(pop_nostop_100).most_common(20)\n",
    "pop_list = list(d1)"
   ]
  },
  {
   "cell_type": "code",
   "execution_count": 103,
   "metadata": {},
   "outputs": [],
   "source": [
    "rap_list_words = []\n",
    "for i in range(len(rap_list)):\n",
    "    rap_list_words.append(rap_list[i][0])\n",
    "    \n",
    "pop_list_words = []\n",
    "for i in range(len(pop_list)):\n",
    "    pop_list_words.append(pop_list[i][0])"
   ]
  },
  {
   "cell_type": "code",
   "execution_count": 104,
   "metadata": {},
   "outputs": [
    {
     "data": {
      "text/plain": [
       "['im',\n",
       " 'dont',\n",
       " 'know',\n",
       " 'like',\n",
       " 'baby',\n",
       " 'got',\n",
       " 'wanna',\n",
       " 'come',\n",
       " 'want',\n",
       " 'cause',\n",
       " 'yeah',\n",
       " 'right']"
      ]
     },
     "execution_count": 104,
     "metadata": {},
     "output_type": "execute_result"
    }
   ],
   "source": [
    "both_list_words = []\n",
    "\n",
    "for i in range(len(pop_list_words)):\n",
    "    for j in range(len(rap_list_words)):\n",
    "        if pop_list_words[i] == rap_list_words[j]:\n",
    "            both_list_words.append(pop_list_words[i])\n",
    "            \n",
    "both_list_words"
   ]
  },
  {
   "cell_type": "code",
   "execution_count": 105,
   "metadata": {},
   "outputs": [],
   "source": [
    "# make a tuple of 3: word, num of word in pop sample, num of word in rap\n",
    "biggy = []\n",
    "\n",
    "# have to get the indices of these words in their original lists\n",
    "pop_list_in = []\n",
    "for i in range(len(both_list_words)):\n",
    "    for j in range(len(pop_list)):\n",
    "        if both_list_words[i] == pop_list[j][0]:\n",
    "            pop_list_in.append(j)    \n",
    "\n",
    "rap_list_in = []\n",
    "for i in range(len(both_list_words)):\n",
    "    for j in range(len(rap_list)):\n",
    "        if both_list_words[i] == rap_list[j][0]:\n",
    "            rap_list_in.append(j)    \n",
    "\n",
    "for i in range(len(both_list_words)):\n",
    "    x = (both_list_words[i], pop_list[pop_list_in[i]][1], (rap_list[rap_list_in[i]][1]))\n",
    "    biggy.append(x)"
   ]
  },
  {
   "cell_type": "code",
   "execution_count": 106,
   "metadata": {},
   "outputs": [
    {
     "data": {
      "text/plain": [
       "[('im', 277, 704),\n",
       " ('dont', 234, 383),\n",
       " ('know', 213, 430),\n",
       " ('like', 210, 743),\n",
       " ('baby', 200, 232),\n",
       " ('got', 135, 444),\n",
       " ('wanna', 114, 192),\n",
       " ('come', 113, 210),\n",
       " ('want', 95, 182),\n",
       " ('cause', 88, 209),\n",
       " ('yeah', 80, 249),\n",
       " ('right', 78, 210)]"
      ]
     },
     "execution_count": 106,
     "metadata": {},
     "output_type": "execute_result"
    }
   ],
   "source": [
    "biggy"
   ]
  },
  {
   "cell_type": "code",
   "execution_count": 107,
   "metadata": {},
   "outputs": [
    {
     "data": {
      "text/html": [
       "<div>\n",
       "<style scoped>\n",
       "    .dataframe tbody tr th:only-of-type {\n",
       "        vertical-align: middle;\n",
       "    }\n",
       "\n",
       "    .dataframe tbody tr th {\n",
       "        vertical-align: top;\n",
       "    }\n",
       "\n",
       "    .dataframe thead th {\n",
       "        text-align: right;\n",
       "    }\n",
       "</style>\n",
       "<table border=\"1\" class=\"dataframe\">\n",
       "  <thead>\n",
       "    <tr style=\"text-align: right;\">\n",
       "      <th></th>\n",
       "      <th>pop_num</th>\n",
       "      <th>rap_num</th>\n",
       "    </tr>\n",
       "    <tr>\n",
       "      <th>word</th>\n",
       "      <th></th>\n",
       "      <th></th>\n",
       "    </tr>\n",
       "  </thead>\n",
       "  <tbody>\n",
       "    <tr>\n",
       "      <th>im</th>\n",
       "      <td>277</td>\n",
       "      <td>704</td>\n",
       "    </tr>\n",
       "    <tr>\n",
       "      <th>dont</th>\n",
       "      <td>234</td>\n",
       "      <td>383</td>\n",
       "    </tr>\n",
       "    <tr>\n",
       "      <th>know</th>\n",
       "      <td>213</td>\n",
       "      <td>430</td>\n",
       "    </tr>\n",
       "    <tr>\n",
       "      <th>like</th>\n",
       "      <td>210</td>\n",
       "      <td>743</td>\n",
       "    </tr>\n",
       "    <tr>\n",
       "      <th>baby</th>\n",
       "      <td>200</td>\n",
       "      <td>232</td>\n",
       "    </tr>\n",
       "    <tr>\n",
       "      <th>got</th>\n",
       "      <td>135</td>\n",
       "      <td>444</td>\n",
       "    </tr>\n",
       "    <tr>\n",
       "      <th>wanna</th>\n",
       "      <td>114</td>\n",
       "      <td>192</td>\n",
       "    </tr>\n",
       "    <tr>\n",
       "      <th>come</th>\n",
       "      <td>113</td>\n",
       "      <td>210</td>\n",
       "    </tr>\n",
       "    <tr>\n",
       "      <th>want</th>\n",
       "      <td>95</td>\n",
       "      <td>182</td>\n",
       "    </tr>\n",
       "    <tr>\n",
       "      <th>cause</th>\n",
       "      <td>88</td>\n",
       "      <td>209</td>\n",
       "    </tr>\n",
       "    <tr>\n",
       "      <th>yeah</th>\n",
       "      <td>80</td>\n",
       "      <td>249</td>\n",
       "    </tr>\n",
       "    <tr>\n",
       "      <th>right</th>\n",
       "      <td>78</td>\n",
       "      <td>210</td>\n",
       "    </tr>\n",
       "  </tbody>\n",
       "</table>\n",
       "</div>"
      ],
      "text/plain": [
       "       pop_num  rap_num\n",
       "word                   \n",
       "im         277      704\n",
       "dont       234      383\n",
       "know       213      430\n",
       "like       210      743\n",
       "baby       200      232\n",
       "got        135      444\n",
       "wanna      114      192\n",
       "come       113      210\n",
       "want        95      182\n",
       "cause       88      209\n",
       "yeah        80      249\n",
       "right       78      210"
      ]
     },
     "execution_count": 107,
     "metadata": {},
     "output_type": "execute_result"
    }
   ],
   "source": [
    "df = pd.DataFrame(biggy, columns=['word', 'pop_num', 'rap_num'])\n",
    "df.set_index('word', inplace=True)\n",
    "df"
   ]
  },
  {
   "cell_type": "code",
   "execution_count": 108,
   "metadata": {},
   "outputs": [
    {
     "data": {
      "image/png": "[encoded data removed]",
      "text/plain": [
       "<Figure size 432x288 with 1 Axes>"
      ]
     },
     "metadata": {
      "needs_background": "light"
     },
     "output_type": "display_data"
    }
   ],
   "source": [
    "df.plot(kind='bar')\n",
    "plt.show()"
   ]
  },
  {
   "cell_type": "code",
   "execution_count": 109,
   "metadata": {},
   "outputs": [
    {
     "data": {
      "text/plain": [
       "6170"
      ]
     },
     "execution_count": 109,
     "metadata": {},
     "output_type": "execute_result"
    }
   ],
   "source": [
    "# how many unique words are there in all the rap songs\n",
    "rappy = rap100['lyrics'].str.cat()\n",
    "unique_words = set(rappy.split(' '))\n",
    "len(unique_words)"
   ]
  },
  {
   "cell_type": "code",
   "execution_count": 110,
   "metadata": {},
   "outputs": [
    {
     "data": {
      "text/plain": [
       "42340"
      ]
     },
     "execution_count": 110,
     "metadata": {},
     "output_type": "execute_result"
    }
   ],
   "source": [
    "# how many unique words are there in all the pop songs\n",
    "poppy = billboard['Lyrics'].str.cat()\n",
    "unique_words = set(poppy.split(' '))\n",
    "len(unique_words)"
   ]
  },
  {
   "cell_type": "code",
   "execution_count": 111,
   "metadata": {},
   "outputs": [
    {
     "data": {
      "text/plain": [
       "3258"
      ]
     },
     "execution_count": 111,
     "metadata": {},
     "output_type": "execute_result"
    }
   ],
   "source": [
    "# how many unique words are there in a sample of the 100 pop songs\n",
    "poppy2 = pop_100['Lyrics'].str.cat()\n",
    "unique_words = set(poppy2.split(' '))\n",
    "len(unique_words)"
   ]
  },
  {
   "cell_type": "code",
   "execution_count": null,
   "metadata": {},
   "outputs": [],
   "source": []
  }
 ],
 "metadata": {
  "kernelspec": {
   "display_name": "Python 3",
   "language": "python",
   "name": "python3"
  },
  "language_info": {
   "codemirror_mode": {
    "name": "ipython",
    "version": 3
   },
   "file_extension": ".py",
   "mimetype": "text/x-python",
   "name": "python",
   "nbconvert_exporter": "python",
   "pygments_lexer": "ipython3",
   "version": "3.7.1"
  }
 },
 "nbformat": 4,
 "nbformat_minor": 2
}
